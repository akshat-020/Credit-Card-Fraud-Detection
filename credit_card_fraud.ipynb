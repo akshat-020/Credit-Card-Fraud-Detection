{
  "cells": [
    {
      "cell_type": "markdown",
      "metadata": {
        "id": "view-in-github",
        "colab_type": "text"
      },
      "source": [
        "<a href=\"https://colab.research.google.com/github/akshat-020/Credit-Card-Fraud-Detection/blob/main/credit_card_fraud.ipynb\" target=\"_parent\"><img src=\"https://colab.research.google.com/assets/colab-badge.svg\" alt=\"Open In Colab\"/></a>"
      ]
    },
    {
      "cell_type": "code",
      "execution_count": 31,
      "metadata": {
        "id": "CCa_m_ZoLU67"
      },
      "outputs": [],
      "source": [
        "import pandas as pd\n",
        "import numpy as np\n",
        "import matplotlib as plt\n",
        "import seaborn as sns\n",
        "df=pd.read_csv('/content/drive/MyDrive/Colab Notebooks/creditcard.csv')"
      ]
    },
    {
      "cell_type": "code",
      "execution_count": 32,
      "metadata": {
        "colab": {
          "base_uri": "https://localhost:8080/",
          "height": 488
        },
        "id": "ol6_cTiMMSUV",
        "outputId": "54608205-6a9e-4513-900b-146514e462a2"
      },
      "outputs": [
        {
          "output_type": "execute_result",
          "data": {
            "text/plain": [
              "            Time         V1         V2        V3        V4        V5  \\\n",
              "0            0.0  -1.359807  -0.072781  2.536347  1.378155 -0.338321   \n",
              "1            0.0   1.191857   0.266151  0.166480  0.448154  0.060018   \n",
              "2            1.0  -1.358354  -1.340163  1.773209  0.379780 -0.503198   \n",
              "3            1.0  -0.966272  -0.185226  1.792993 -0.863291 -0.010309   \n",
              "4            2.0  -1.158233   0.877737  1.548718  0.403034 -0.407193   \n",
              "...          ...        ...        ...       ...       ...       ...   \n",
              "284802  172786.0 -11.881118  10.071785 -9.834783 -2.066656 -5.364473   \n",
              "284803  172787.0  -0.732789  -0.055080  2.035030 -0.738589  0.868229   \n",
              "284804  172788.0   1.919565  -0.301254 -3.249640 -0.557828  2.630515   \n",
              "284805  172788.0  -0.240440   0.530483  0.702510  0.689799 -0.377961   \n",
              "284806  172792.0  -0.533413  -0.189733  0.703337 -0.506271 -0.012546   \n",
              "\n",
              "              V6        V7        V8        V9  ...       V21       V22  \\\n",
              "0       0.462388  0.239599  0.098698  0.363787  ... -0.018307  0.277838   \n",
              "1      -0.082361 -0.078803  0.085102 -0.255425  ... -0.225775 -0.638672   \n",
              "2       1.800499  0.791461  0.247676 -1.514654  ...  0.247998  0.771679   \n",
              "3       1.247203  0.237609  0.377436 -1.387024  ... -0.108300  0.005274   \n",
              "4       0.095921  0.592941 -0.270533  0.817739  ... -0.009431  0.798278   \n",
              "...          ...       ...       ...       ...  ...       ...       ...   \n",
              "284802 -2.606837 -4.918215  7.305334  1.914428  ...  0.213454  0.111864   \n",
              "284803  1.058415  0.024330  0.294869  0.584800  ...  0.214205  0.924384   \n",
              "284804  3.031260 -0.296827  0.708417  0.432454  ...  0.232045  0.578229   \n",
              "284805  0.623708 -0.686180  0.679145  0.392087  ...  0.265245  0.800049   \n",
              "284806 -0.649617  1.577006 -0.414650  0.486180  ...  0.261057  0.643078   \n",
              "\n",
              "             V23       V24       V25       V26       V27       V28  Amount  \\\n",
              "0      -0.110474  0.066928  0.128539 -0.189115  0.133558 -0.021053  149.62   \n",
              "1       0.101288 -0.339846  0.167170  0.125895 -0.008983  0.014724    2.69   \n",
              "2       0.909412 -0.689281 -0.327642 -0.139097 -0.055353 -0.059752  378.66   \n",
              "3      -0.190321 -1.175575  0.647376 -0.221929  0.062723  0.061458  123.50   \n",
              "4      -0.137458  0.141267 -0.206010  0.502292  0.219422  0.215153   69.99   \n",
              "...          ...       ...       ...       ...       ...       ...     ...   \n",
              "284802  1.014480 -0.509348  1.436807  0.250034  0.943651  0.823731    0.77   \n",
              "284803  0.012463 -1.016226 -0.606624 -0.395255  0.068472 -0.053527   24.79   \n",
              "284804 -0.037501  0.640134  0.265745 -0.087371  0.004455 -0.026561   67.88   \n",
              "284805 -0.163298  0.123205 -0.569159  0.546668  0.108821  0.104533   10.00   \n",
              "284806  0.376777  0.008797 -0.473649 -0.818267 -0.002415  0.013649  217.00   \n",
              "\n",
              "        Class  \n",
              "0           0  \n",
              "1           0  \n",
              "2           0  \n",
              "3           0  \n",
              "4           0  \n",
              "...       ...  \n",
              "284802      0  \n",
              "284803      0  \n",
              "284804      0  \n",
              "284805      0  \n",
              "284806      0  \n",
              "\n",
              "[284807 rows x 31 columns]"
            ],
            "text/html": [
              "\n",
              "  <div id=\"df-ee083c2f-f88b-4615-873c-6d973cd25ea5\">\n",
              "    <div class=\"colab-df-container\">\n",
              "      <div>\n",
              "<style scoped>\n",
              "    .dataframe tbody tr th:only-of-type {\n",
              "        vertical-align: middle;\n",
              "    }\n",
              "\n",
              "    .dataframe tbody tr th {\n",
              "        vertical-align: top;\n",
              "    }\n",
              "\n",
              "    .dataframe thead th {\n",
              "        text-align: right;\n",
              "    }\n",
              "</style>\n",
              "<table border=\"1\" class=\"dataframe\">\n",
              "  <thead>\n",
              "    <tr style=\"text-align: right;\">\n",
              "      <th></th>\n",
              "      <th>Time</th>\n",
              "      <th>V1</th>\n",
              "      <th>V2</th>\n",
              "      <th>V3</th>\n",
              "      <th>V4</th>\n",
              "      <th>V5</th>\n",
              "      <th>V6</th>\n",
              "      <th>V7</th>\n",
              "      <th>V8</th>\n",
              "      <th>V9</th>\n",
              "      <th>...</th>\n",
              "      <th>V21</th>\n",
              "      <th>V22</th>\n",
              "      <th>V23</th>\n",
              "      <th>V24</th>\n",
              "      <th>V25</th>\n",
              "      <th>V26</th>\n",
              "      <th>V27</th>\n",
              "      <th>V28</th>\n",
              "      <th>Amount</th>\n",
              "      <th>Class</th>\n",
              "    </tr>\n",
              "  </thead>\n",
              "  <tbody>\n",
              "    <tr>\n",
              "      <th>0</th>\n",
              "      <td>0.0</td>\n",
              "      <td>-1.359807</td>\n",
              "      <td>-0.072781</td>\n",
              "      <td>2.536347</td>\n",
              "      <td>1.378155</td>\n",
              "      <td>-0.338321</td>\n",
              "      <td>0.462388</td>\n",
              "      <td>0.239599</td>\n",
              "      <td>0.098698</td>\n",
              "      <td>0.363787</td>\n",
              "      <td>...</td>\n",
              "      <td>-0.018307</td>\n",
              "      <td>0.277838</td>\n",
              "      <td>-0.110474</td>\n",
              "      <td>0.066928</td>\n",
              "      <td>0.128539</td>\n",
              "      <td>-0.189115</td>\n",
              "      <td>0.133558</td>\n",
              "      <td>-0.021053</td>\n",
              "      <td>149.62</td>\n",
              "      <td>0</td>\n",
              "    </tr>\n",
              "    <tr>\n",
              "      <th>1</th>\n",
              "      <td>0.0</td>\n",
              "      <td>1.191857</td>\n",
              "      <td>0.266151</td>\n",
              "      <td>0.166480</td>\n",
              "      <td>0.448154</td>\n",
              "      <td>0.060018</td>\n",
              "      <td>-0.082361</td>\n",
              "      <td>-0.078803</td>\n",
              "      <td>0.085102</td>\n",
              "      <td>-0.255425</td>\n",
              "      <td>...</td>\n",
              "      <td>-0.225775</td>\n",
              "      <td>-0.638672</td>\n",
              "      <td>0.101288</td>\n",
              "      <td>-0.339846</td>\n",
              "      <td>0.167170</td>\n",
              "      <td>0.125895</td>\n",
              "      <td>-0.008983</td>\n",
              "      <td>0.014724</td>\n",
              "      <td>2.69</td>\n",
              "      <td>0</td>\n",
              "    </tr>\n",
              "    <tr>\n",
              "      <th>2</th>\n",
              "      <td>1.0</td>\n",
              "      <td>-1.358354</td>\n",
              "      <td>-1.340163</td>\n",
              "      <td>1.773209</td>\n",
              "      <td>0.379780</td>\n",
              "      <td>-0.503198</td>\n",
              "      <td>1.800499</td>\n",
              "      <td>0.791461</td>\n",
              "      <td>0.247676</td>\n",
              "      <td>-1.514654</td>\n",
              "      <td>...</td>\n",
              "      <td>0.247998</td>\n",
              "      <td>0.771679</td>\n",
              "      <td>0.909412</td>\n",
              "      <td>-0.689281</td>\n",
              "      <td>-0.327642</td>\n",
              "      <td>-0.139097</td>\n",
              "      <td>-0.055353</td>\n",
              "      <td>-0.059752</td>\n",
              "      <td>378.66</td>\n",
              "      <td>0</td>\n",
              "    </tr>\n",
              "    <tr>\n",
              "      <th>3</th>\n",
              "      <td>1.0</td>\n",
              "      <td>-0.966272</td>\n",
              "      <td>-0.185226</td>\n",
              "      <td>1.792993</td>\n",
              "      <td>-0.863291</td>\n",
              "      <td>-0.010309</td>\n",
              "      <td>1.247203</td>\n",
              "      <td>0.237609</td>\n",
              "      <td>0.377436</td>\n",
              "      <td>-1.387024</td>\n",
              "      <td>...</td>\n",
              "      <td>-0.108300</td>\n",
              "      <td>0.005274</td>\n",
              "      <td>-0.190321</td>\n",
              "      <td>-1.175575</td>\n",
              "      <td>0.647376</td>\n",
              "      <td>-0.221929</td>\n",
              "      <td>0.062723</td>\n",
              "      <td>0.061458</td>\n",
              "      <td>123.50</td>\n",
              "      <td>0</td>\n",
              "    </tr>\n",
              "    <tr>\n",
              "      <th>4</th>\n",
              "      <td>2.0</td>\n",
              "      <td>-1.158233</td>\n",
              "      <td>0.877737</td>\n",
              "      <td>1.548718</td>\n",
              "      <td>0.403034</td>\n",
              "      <td>-0.407193</td>\n",
              "      <td>0.095921</td>\n",
              "      <td>0.592941</td>\n",
              "      <td>-0.270533</td>\n",
              "      <td>0.817739</td>\n",
              "      <td>...</td>\n",
              "      <td>-0.009431</td>\n",
              "      <td>0.798278</td>\n",
              "      <td>-0.137458</td>\n",
              "      <td>0.141267</td>\n",
              "      <td>-0.206010</td>\n",
              "      <td>0.502292</td>\n",
              "      <td>0.219422</td>\n",
              "      <td>0.215153</td>\n",
              "      <td>69.99</td>\n",
              "      <td>0</td>\n",
              "    </tr>\n",
              "    <tr>\n",
              "      <th>...</th>\n",
              "      <td>...</td>\n",
              "      <td>...</td>\n",
              "      <td>...</td>\n",
              "      <td>...</td>\n",
              "      <td>...</td>\n",
              "      <td>...</td>\n",
              "      <td>...</td>\n",
              "      <td>...</td>\n",
              "      <td>...</td>\n",
              "      <td>...</td>\n",
              "      <td>...</td>\n",
              "      <td>...</td>\n",
              "      <td>...</td>\n",
              "      <td>...</td>\n",
              "      <td>...</td>\n",
              "      <td>...</td>\n",
              "      <td>...</td>\n",
              "      <td>...</td>\n",
              "      <td>...</td>\n",
              "      <td>...</td>\n",
              "      <td>...</td>\n",
              "    </tr>\n",
              "    <tr>\n",
              "      <th>284802</th>\n",
              "      <td>172786.0</td>\n",
              "      <td>-11.881118</td>\n",
              "      <td>10.071785</td>\n",
              "      <td>-9.834783</td>\n",
              "      <td>-2.066656</td>\n",
              "      <td>-5.364473</td>\n",
              "      <td>-2.606837</td>\n",
              "      <td>-4.918215</td>\n",
              "      <td>7.305334</td>\n",
              "      <td>1.914428</td>\n",
              "      <td>...</td>\n",
              "      <td>0.213454</td>\n",
              "      <td>0.111864</td>\n",
              "      <td>1.014480</td>\n",
              "      <td>-0.509348</td>\n",
              "      <td>1.436807</td>\n",
              "      <td>0.250034</td>\n",
              "      <td>0.943651</td>\n",
              "      <td>0.823731</td>\n",
              "      <td>0.77</td>\n",
              "      <td>0</td>\n",
              "    </tr>\n",
              "    <tr>\n",
              "      <th>284803</th>\n",
              "      <td>172787.0</td>\n",
              "      <td>-0.732789</td>\n",
              "      <td>-0.055080</td>\n",
              "      <td>2.035030</td>\n",
              "      <td>-0.738589</td>\n",
              "      <td>0.868229</td>\n",
              "      <td>1.058415</td>\n",
              "      <td>0.024330</td>\n",
              "      <td>0.294869</td>\n",
              "      <td>0.584800</td>\n",
              "      <td>...</td>\n",
              "      <td>0.214205</td>\n",
              "      <td>0.924384</td>\n",
              "      <td>0.012463</td>\n",
              "      <td>-1.016226</td>\n",
              "      <td>-0.606624</td>\n",
              "      <td>-0.395255</td>\n",
              "      <td>0.068472</td>\n",
              "      <td>-0.053527</td>\n",
              "      <td>24.79</td>\n",
              "      <td>0</td>\n",
              "    </tr>\n",
              "    <tr>\n",
              "      <th>284804</th>\n",
              "      <td>172788.0</td>\n",
              "      <td>1.919565</td>\n",
              "      <td>-0.301254</td>\n",
              "      <td>-3.249640</td>\n",
              "      <td>-0.557828</td>\n",
              "      <td>2.630515</td>\n",
              "      <td>3.031260</td>\n",
              "      <td>-0.296827</td>\n",
              "      <td>0.708417</td>\n",
              "      <td>0.432454</td>\n",
              "      <td>...</td>\n",
              "      <td>0.232045</td>\n",
              "      <td>0.578229</td>\n",
              "      <td>-0.037501</td>\n",
              "      <td>0.640134</td>\n",
              "      <td>0.265745</td>\n",
              "      <td>-0.087371</td>\n",
              "      <td>0.004455</td>\n",
              "      <td>-0.026561</td>\n",
              "      <td>67.88</td>\n",
              "      <td>0</td>\n",
              "    </tr>\n",
              "    <tr>\n",
              "      <th>284805</th>\n",
              "      <td>172788.0</td>\n",
              "      <td>-0.240440</td>\n",
              "      <td>0.530483</td>\n",
              "      <td>0.702510</td>\n",
              "      <td>0.689799</td>\n",
              "      <td>-0.377961</td>\n",
              "      <td>0.623708</td>\n",
              "      <td>-0.686180</td>\n",
              "      <td>0.679145</td>\n",
              "      <td>0.392087</td>\n",
              "      <td>...</td>\n",
              "      <td>0.265245</td>\n",
              "      <td>0.800049</td>\n",
              "      <td>-0.163298</td>\n",
              "      <td>0.123205</td>\n",
              "      <td>-0.569159</td>\n",
              "      <td>0.546668</td>\n",
              "      <td>0.108821</td>\n",
              "      <td>0.104533</td>\n",
              "      <td>10.00</td>\n",
              "      <td>0</td>\n",
              "    </tr>\n",
              "    <tr>\n",
              "      <th>284806</th>\n",
              "      <td>172792.0</td>\n",
              "      <td>-0.533413</td>\n",
              "      <td>-0.189733</td>\n",
              "      <td>0.703337</td>\n",
              "      <td>-0.506271</td>\n",
              "      <td>-0.012546</td>\n",
              "      <td>-0.649617</td>\n",
              "      <td>1.577006</td>\n",
              "      <td>-0.414650</td>\n",
              "      <td>0.486180</td>\n",
              "      <td>...</td>\n",
              "      <td>0.261057</td>\n",
              "      <td>0.643078</td>\n",
              "      <td>0.376777</td>\n",
              "      <td>0.008797</td>\n",
              "      <td>-0.473649</td>\n",
              "      <td>-0.818267</td>\n",
              "      <td>-0.002415</td>\n",
              "      <td>0.013649</td>\n",
              "      <td>217.00</td>\n",
              "      <td>0</td>\n",
              "    </tr>\n",
              "  </tbody>\n",
              "</table>\n",
              "<p>284807 rows × 31 columns</p>\n",
              "</div>\n",
              "      <button class=\"colab-df-convert\" onclick=\"convertToInteractive('df-ee083c2f-f88b-4615-873c-6d973cd25ea5')\"\n",
              "              title=\"Convert this dataframe to an interactive table.\"\n",
              "              style=\"display:none;\">\n",
              "        \n",
              "  <svg xmlns=\"http://www.w3.org/2000/svg\" height=\"24px\"viewBox=\"0 0 24 24\"\n",
              "       width=\"24px\">\n",
              "    <path d=\"M0 0h24v24H0V0z\" fill=\"none\"/>\n",
              "    <path d=\"M18.56 5.44l.94 2.06.94-2.06 2.06-.94-2.06-.94-.94-2.06-.94 2.06-2.06.94zm-11 1L8.5 8.5l.94-2.06 2.06-.94-2.06-.94L8.5 2.5l-.94 2.06-2.06.94zm10 10l.94 2.06.94-2.06 2.06-.94-2.06-.94-.94-2.06-.94 2.06-2.06.94z\"/><path d=\"M17.41 7.96l-1.37-1.37c-.4-.4-.92-.59-1.43-.59-.52 0-1.04.2-1.43.59L10.3 9.45l-7.72 7.72c-.78.78-.78 2.05 0 2.83L4 21.41c.39.39.9.59 1.41.59.51 0 1.02-.2 1.41-.59l7.78-7.78 2.81-2.81c.8-.78.8-2.07 0-2.86zM5.41 20L4 18.59l7.72-7.72 1.47 1.35L5.41 20z\"/>\n",
              "  </svg>\n",
              "      </button>\n",
              "      \n",
              "  <style>\n",
              "    .colab-df-container {\n",
              "      display:flex;\n",
              "      flex-wrap:wrap;\n",
              "      gap: 12px;\n",
              "    }\n",
              "\n",
              "    .colab-df-convert {\n",
              "      background-color: #E8F0FE;\n",
              "      border: none;\n",
              "      border-radius: 50%;\n",
              "      cursor: pointer;\n",
              "      display: none;\n",
              "      fill: #1967D2;\n",
              "      height: 32px;\n",
              "      padding: 0 0 0 0;\n",
              "      width: 32px;\n",
              "    }\n",
              "\n",
              "    .colab-df-convert:hover {\n",
              "      background-color: #E2EBFA;\n",
              "      box-shadow: 0px 1px 2px rgba(60, 64, 67, 0.3), 0px 1px 3px 1px rgba(60, 64, 67, 0.15);\n",
              "      fill: #174EA6;\n",
              "    }\n",
              "\n",
              "    [theme=dark] .colab-df-convert {\n",
              "      background-color: #3B4455;\n",
              "      fill: #D2E3FC;\n",
              "    }\n",
              "\n",
              "    [theme=dark] .colab-df-convert:hover {\n",
              "      background-color: #434B5C;\n",
              "      box-shadow: 0px 1px 3px 1px rgba(0, 0, 0, 0.15);\n",
              "      filter: drop-shadow(0px 1px 2px rgba(0, 0, 0, 0.3));\n",
              "      fill: #FFFFFF;\n",
              "    }\n",
              "  </style>\n",
              "\n",
              "      <script>\n",
              "        const buttonEl =\n",
              "          document.querySelector('#df-ee083c2f-f88b-4615-873c-6d973cd25ea5 button.colab-df-convert');\n",
              "        buttonEl.style.display =\n",
              "          google.colab.kernel.accessAllowed ? 'block' : 'none';\n",
              "\n",
              "        async function convertToInteractive(key) {\n",
              "          const element = document.querySelector('#df-ee083c2f-f88b-4615-873c-6d973cd25ea5');\n",
              "          const dataTable =\n",
              "            await google.colab.kernel.invokeFunction('convertToInteractive',\n",
              "                                                     [key], {});\n",
              "          if (!dataTable) return;\n",
              "\n",
              "          const docLinkHtml = 'Like what you see? Visit the ' +\n",
              "            '<a target=\"_blank\" href=https://colab.research.google.com/notebooks/data_table.ipynb>data table notebook</a>'\n",
              "            + ' to learn more about interactive tables.';\n",
              "          element.innerHTML = '';\n",
              "          dataTable['output_type'] = 'display_data';\n",
              "          await google.colab.output.renderOutput(dataTable, element);\n",
              "          const docLink = document.createElement('div');\n",
              "          docLink.innerHTML = docLinkHtml;\n",
              "          element.appendChild(docLink);\n",
              "        }\n",
              "      </script>\n",
              "    </div>\n",
              "  </div>\n",
              "  "
            ]
          },
          "metadata": {},
          "execution_count": 32
        }
      ],
      "source": [
        "df"
      ]
    },
    {
      "cell_type": "code",
      "execution_count": 33,
      "metadata": {
        "colab": {
          "base_uri": "https://localhost:8080/"
        },
        "id": "ycbhONW2NL0E",
        "outputId": "2cc1acd2-fa91-46c0-92d1-bc7627546b91"
      },
      "outputs": [
        {
          "output_type": "execute_result",
          "data": {
            "text/plain": [
              "Index(['Time', 'V1', 'V2', 'V3', 'V4', 'V5', 'V6', 'V7', 'V8', 'V9', 'V10',\n",
              "       'V11', 'V12', 'V13', 'V14', 'V15', 'V16', 'V17', 'V18', 'V19', 'V20',\n",
              "       'V21', 'V22', 'V23', 'V24', 'V25', 'V26', 'V27', 'V28', 'Amount',\n",
              "       'Class'],\n",
              "      dtype='object')"
            ]
          },
          "metadata": {},
          "execution_count": 33
        }
      ],
      "source": [
        "df.columns\n"
      ]
    },
    {
      "cell_type": "code",
      "execution_count": 34,
      "metadata": {
        "id": "GN1EvWfdN3_F"
      },
      "outputs": [],
      "source": [
        "Total_transactions = len(df)\n",
        "normal = len(df[df.Class == 0])\n",
        "fraudulent = len(df[df.Class == 1])\n",
        "fraud_percentage = round(fraudulent/normal*100, 2)"
      ]
    },
    {
      "cell_type": "code",
      "execution_count": 35,
      "metadata": {
        "colab": {
          "base_uri": "https://localhost:8080/"
        },
        "id": "xiY-u08TPGwL",
        "outputId": "d9398503-7a99-4c09-9694-c18364cdb185"
      },
      "outputs": [
        {
          "output_type": "execute_result",
          "data": {
            "text/plain": [
              "0.17"
            ]
          },
          "metadata": {},
          "execution_count": 35
        }
      ],
      "source": [
        "fraud_percentage"
      ]
    },
    {
      "cell_type": "code",
      "execution_count": 36,
      "metadata": {
        "colab": {
          "base_uri": "https://localhost:8080/"
        },
        "id": "fzvgUw2pPjz8",
        "outputId": "895e4bcb-5e66-4b9b-c49a-ae0c48fff1d6"
      },
      "outputs": [
        {
          "output_type": "stream",
          "name": "stdout",
          "text": [
            "<class 'pandas.core.frame.DataFrame'>\n",
            "RangeIndex: 284807 entries, 0 to 284806\n",
            "Data columns (total 31 columns):\n",
            " #   Column  Non-Null Count   Dtype  \n",
            "---  ------  --------------   -----  \n",
            " 0   Time    284807 non-null  float64\n",
            " 1   V1      284807 non-null  float64\n",
            " 2   V2      284807 non-null  float64\n",
            " 3   V3      284807 non-null  float64\n",
            " 4   V4      284807 non-null  float64\n",
            " 5   V5      284807 non-null  float64\n",
            " 6   V6      284807 non-null  float64\n",
            " 7   V7      284807 non-null  float64\n",
            " 8   V8      284807 non-null  float64\n",
            " 9   V9      284807 non-null  float64\n",
            " 10  V10     284807 non-null  float64\n",
            " 11  V11     284807 non-null  float64\n",
            " 12  V12     284807 non-null  float64\n",
            " 13  V13     284807 non-null  float64\n",
            " 14  V14     284807 non-null  float64\n",
            " 15  V15     284807 non-null  float64\n",
            " 16  V16     284807 non-null  float64\n",
            " 17  V17     284807 non-null  float64\n",
            " 18  V18     284807 non-null  float64\n",
            " 19  V19     284807 non-null  float64\n",
            " 20  V20     284807 non-null  float64\n",
            " 21  V21     284807 non-null  float64\n",
            " 22  V22     284807 non-null  float64\n",
            " 23  V23     284807 non-null  float64\n",
            " 24  V24     284807 non-null  float64\n",
            " 25  V25     284807 non-null  float64\n",
            " 26  V26     284807 non-null  float64\n",
            " 27  V27     284807 non-null  float64\n",
            " 28  V28     284807 non-null  float64\n",
            " 29  Amount  284807 non-null  float64\n",
            " 30  Class   284807 non-null  int64  \n",
            "dtypes: float64(30), int64(1)\n",
            "memory usage: 67.4 MB\n"
          ]
        }
      ],
      "source": [
        "df.info()\n"
      ]
    },
    {
      "cell_type": "code",
      "execution_count": 37,
      "metadata": {
        "id": "8HM8eOGXRUGw"
      },
      "outputs": [],
      "source": [
        "df.drop(['Time'], axis=1, inplace=True)"
      ]
    },
    {
      "cell_type": "markdown",
      "metadata": {
        "id": "ZX-BmEqjjvRK"
      },
      "source": [
        "Normalise the Amount column"
      ]
    },
    {
      "cell_type": "code",
      "execution_count": 38,
      "metadata": {
        "id": "-Gam1xO0R0gY"
      },
      "outputs": [],
      "source": [
        "from sklearn.preprocessing import StandardScaler\n",
        "sc = StandardScaler()\n",
        "amount = df['Amount'].values\n",
        "df['Amount'] = sc.fit_transform(amount.reshape(-1, 1))\n",
        "df.drop_duplicates(inplace=True)"
      ]
    },
    {
      "cell_type": "code",
      "execution_count": 39,
      "metadata": {
        "colab": {
          "base_uri": "https://localhost:8080/"
        },
        "id": "7x57lMTkR51d",
        "outputId": "ee04ddc2-dcdc-4d5b-b562-8468f47e4c51"
      },
      "outputs": [
        {
          "output_type": "execute_result",
          "data": {
            "text/plain": [
              "(275663, 30)"
            ]
          },
          "metadata": {},
          "execution_count": 39
        }
      ],
      "source": [
        "df.shape\n"
      ]
    },
    {
      "cell_type": "markdown",
      "metadata": {
        "id": "vxzDrk8Yi2k7"
      },
      "source": [
        "Split the data:\n"
      ]
    },
    {
      "cell_type": "code",
      "execution_count": 40,
      "metadata": {
        "id": "jsg209Gmi1Eb"
      },
      "outputs": [],
      "source": [
        "\n",
        "X= df[['V1', 'V2', 'V3', 'V4', 'V5', 'V6', 'V7', 'V8', 'V9', 'V10',\n",
        "       'V11', 'V12', 'V13', 'V14', 'V15', 'V16', 'V17', 'V18', 'V19', 'V20',\n",
        "       'V21', 'V22', 'V23', 'V24', 'V25', 'V26', 'V27', 'V28', 'Amount']]\n",
        "y=df['Class']\n",
        "from sklearn.model_selection import train_test_split\n",
        "X_train, X_test, y_train, y_test = train_test_split(X, y, test_size = 0.25, random_state = 1)"
      ]
    },
    {
      "cell_type": "code",
      "execution_count": 41,
      "metadata": {
        "id": "9iPVkp0uTnGb"
      },
      "outputs": [],
      "source": [
        "%matplotlib inline"
      ]
    },
    {
      "cell_type": "code",
      "execution_count": 42,
      "metadata": {
        "id": "PtaD-2bmryjy"
      },
      "outputs": [],
      "source": [
        "#@title\n",
        "#sns.pairplot(df)"
      ]
    },
    {
      "cell_type": "code",
      "execution_count": 43,
      "metadata": {
        "id": "pp_oU9LLr0jt"
      },
      "outputs": [],
      "source": [
        "#sns.barplot(x='V1', y='Amount',data=df)"
      ]
    },
    {
      "cell_type": "code",
      "execution_count": 44,
      "metadata": {
        "colab": {
          "base_uri": "https://localhost:8080/",
          "height": 351
        },
        "id": "Ag7E9cIZfZZq",
        "outputId": "34ef79df-7d1d-4952-9a17-97c5a1a2bf05"
      },
      "outputs": [
        {
          "output_type": "stream",
          "name": "stderr",
          "text": [
            "/usr/local/lib/python3.7/dist-packages/seaborn/distributions.py:2619: FutureWarning: `distplot` is a deprecated function and will be removed in a future version. Please adapt your code to use either `displot` (a figure-level function with similar flexibility) or `histplot` (an axes-level function for histograms).\n",
            "  warnings.warn(msg, FutureWarning)\n"
          ]
        },
        {
          "output_type": "execute_result",
          "data": {
            "text/plain": [
              "<matplotlib.axes._subplots.AxesSubplot at 0x7f8826dda150>"
            ]
          },
          "metadata": {},
          "execution_count": 44
        },
        {
          "output_type": "display_data",
          "data": {
            "text/plain": [
              "<Figure size 432x288 with 1 Axes>"
            ],
            "image/png": "[encoded data removed]"
          },
          "metadata": {
            "needs_background": "light"
          }
        }
      ],
      "source": [
        "sns.distplot(df['V3'],bins=100,kde=False)"
      ]
    },
    {
      "cell_type": "code",
      "execution_count": 45,
      "metadata": {
        "colab": {
          "base_uri": "https://localhost:8080/",
          "height": 458
        },
        "id": "GpdeNy1v3QCj",
        "outputId": "7e7d32c5-3608-4507-8eae-36605bd56b5d"
      },
      "outputs": [
        {
          "output_type": "execute_result",
          "data": {
            "text/plain": [
              "<seaborn.axisgrid.JointGrid at 0x7f8826d4ee10>"
            ]
          },
          "metadata": {},
          "execution_count": 45
        },
        {
          "output_type": "display_data",
          "data": {
            "text/plain": [
              "<Figure size 432x432 with 3 Axes>"
            ],
            "image/png": "[encoded data removed]"
          },
          "metadata": {
            "needs_background": "light"
          }
        }
      ],
      "source": [
        "sns.jointplot(x=df['V1'], y=df['Amount'],kind='reg')"
      ]
    },
    {
      "cell_type": "code",
      "execution_count": 46,
      "metadata": {
        "id": "IXt1fEih4qS0"
      },
      "outputs": [],
      "source": [
        "dfc=df.corr()"
      ]
    },
    {
      "cell_type": "code",
      "execution_count": 47,
      "metadata": {
        "colab": {
          "base_uri": "https://localhost:8080/",
          "height": 1000
        },
        "id": "8fjqyYTxE1GO",
        "outputId": "26561ca5-178e-4cd2-e964-d90954842dc5"
      },
      "outputs": [
        {
          "output_type": "execute_result",
          "data": {
            "text/plain": [
              "              V1        V2        V3        V4        V5        V6        V7  \\\n",
              "V1      1.000000  0.009002  0.005952 -0.000042 -0.018593 -0.005789 -0.006843   \n",
              "V2      0.009002  1.000000  0.004976 -0.004095  0.004655  0.004290  0.004866   \n",
              "V3      0.005952  0.004976  1.000000 -0.000721  0.011020  0.014780 -0.014016   \n",
              "V4     -0.000042 -0.004095 -0.000721  1.000000  0.006710  0.012535  0.000806   \n",
              "V5     -0.018593  0.004655  0.011020  0.006710  1.000000 -0.029701 -0.009107   \n",
              "V6     -0.005789  0.004290  0.014780  0.012535 -0.029701  1.000000  0.013087   \n",
              "V7     -0.006843  0.004866 -0.014016  0.000806 -0.009107  0.013087  1.000000   \n",
              "V8     -0.000490  0.003743  0.003733  0.004996 -0.002605 -0.012301 -0.000987   \n",
              "V9     -0.007093  0.001116 -0.002896  0.001395 -0.000786 -0.002290 -0.001657   \n",
              "V10     0.003115  0.002764 -0.011064  0.003366 -0.002818 -0.002723 -0.012246   \n",
              "V11    -0.005238 -0.001808  0.003763 -0.004402 -0.002965  0.000446  0.001731   \n",
              "V12    -0.005225  0.001480 -0.003365  0.000561 -0.000343  0.004288 -0.007378   \n",
              "V13     0.000176  0.000461 -0.000753  0.000332  0.001201 -0.000140  0.001019   \n",
              "V14    -0.000167  0.004772 -0.008208  0.005336  0.005175  0.000178 -0.002006   \n",
              "V15    -0.008538  0.001176  0.003324  0.004045 -0.007122 -0.009363  0.002165   \n",
              "V16    -0.006376  0.002648  0.000336  0.001783 -0.004147 -0.002538 -0.003553   \n",
              "V17    -0.001709  0.001304 -0.002813  0.001633 -0.005422  0.001747 -0.009985   \n",
              "V18    -0.000037  0.000363 -0.003876  0.001569 -0.003108  0.000734 -0.004092   \n",
              "V19    -0.000366  0.001164 -0.000828  0.005018  0.000351  0.000880  0.000590   \n",
              "V20     0.003109 -0.000339 -0.004587  0.001165 -0.000788 -0.001835 -0.002196   \n",
              "V21     0.006004 -0.003881  0.001818 -0.000623  0.003439 -0.001584  0.008635   \n",
              "V22     0.003634  0.002909 -0.004203  0.001581  0.002971  0.002355 -0.001701   \n",
              "V23    -0.007504 -0.003689  0.002183 -0.000155 -0.001058 -0.000221  0.003458   \n",
              "V24    -0.009327  0.001974  0.009782  0.005759 -0.012634 -0.021098  0.005375   \n",
              "V25    -0.004446 -0.002837  0.004091  0.000173 -0.004862 -0.006673  0.002070   \n",
              "V26    -0.002436 -0.000296  0.003596 -0.001105 -0.001568  0.000702 -0.000459   \n",
              "V27    -0.014628  0.007252 -0.008780  0.002517 -0.006116 -0.001577 -0.003977   \n",
              "V28    -0.003555  0.001458 -0.002454  0.000028 -0.000711  0.000617  0.001329   \n",
              "Amount -0.225854 -0.534153 -0.220547  0.100626 -0.390280  0.224967  0.401573   \n",
              "Class  -0.094718  0.084754 -0.185772  0.130313 -0.088642 -0.044777 -0.173292   \n",
              "\n",
              "              V8        V9       V10  ...       V21       V22       V23  \\\n",
              "V1     -0.000490 -0.007093  0.003115  ...  0.006004  0.003634 -0.007504   \n",
              "V2      0.003743  0.001116  0.002764  ... -0.003881  0.002909 -0.003689   \n",
              "V3      0.003733 -0.002896 -0.011064  ...  0.001818 -0.004203  0.002183   \n",
              "V4      0.004996  0.001395  0.003366  ... -0.000623  0.001581 -0.000155   \n",
              "V5     -0.002605 -0.000786 -0.002818  ...  0.003439  0.002971 -0.001058   \n",
              "V6     -0.012301 -0.002290 -0.002723  ... -0.001584  0.002355 -0.000221   \n",
              "V7     -0.000987 -0.001657 -0.012246  ...  0.008635 -0.001701  0.003458   \n",
              "V8      1.000000  0.000168  0.000239  ...  0.018806 -0.005182  0.006461   \n",
              "V9      0.000168  1.000000 -0.004957  ...  0.001744  0.000742 -0.001739   \n",
              "V10     0.000239 -0.004957  1.000000  ...  0.002396 -0.003012  0.001760   \n",
              "V11     0.005165 -0.001583  0.005211  ... -0.002331  0.000804 -0.000839   \n",
              "V12    -0.004134  0.000221 -0.007395  ...  0.004192  0.002967 -0.001101   \n",
              "V13    -0.001341 -0.000259  0.000890  ...  0.001101  0.000214  0.000711   \n",
              "V14    -0.009568 -0.005125 -0.004616  ...  0.004711 -0.004795  0.000929   \n",
              "V15    -0.002322 -0.004912  0.003366  ...  0.001137  0.002579  0.000727   \n",
              "V16    -0.006868  0.002680 -0.003637  ...  0.005267  0.003296  0.001524   \n",
              "V17    -0.006049 -0.000488 -0.001841  ...  0.004163  0.000546  0.002412   \n",
              "V18    -0.002092 -0.000957  0.000911  ...  0.000619 -0.004321  0.003488   \n",
              "V19     0.000855 -0.000936  0.000379  ...  0.000886  0.003521 -0.000357   \n",
              "V20     0.000562  0.000613 -0.004506  ...  0.004392 -0.002322  0.000748   \n",
              "V21     0.018806  0.001744  0.002396  ...  1.000000  0.001795 -0.004336   \n",
              "V22    -0.005182  0.000742 -0.003012  ...  0.001795  1.000000  0.006161   \n",
              "V23     0.006461 -0.001739  0.001760  ... -0.004336  0.006161  1.000000   \n",
              "V24    -0.006000 -0.002454  0.001015  ...  0.002943  0.004008 -0.001191   \n",
              "V25    -0.002827 -0.000358  0.002499  ... -0.001299 -0.002331  0.003625   \n",
              "V26    -0.001122  0.005307 -0.000859  ...  0.000828  0.004309 -0.002105   \n",
              "V27    -0.000108  0.008066  0.011495  ... -0.005524  0.001686 -0.001520   \n",
              "V28     0.000201  0.006487  0.009956  ... -0.004461  0.001670 -0.002719   \n",
              "Amount -0.104572 -0.041446 -0.104586  ...  0.106363 -0.068382 -0.110847   \n",
              "Class   0.033364 -0.094583 -0.208104  ...  0.026239  0.004612 -0.006206   \n",
              "\n",
              "             V24       V25       V26       V27       V28    Amount     Class  \n",
              "V1     -0.009327 -0.004446 -0.002436 -0.014628 -0.003555 -0.225854 -0.094718  \n",
              "V2      0.001974 -0.002837 -0.000296  0.007252  0.001458 -0.534153  0.084754  \n",
              "V3      0.009782  0.004091  0.003596 -0.008780 -0.002454 -0.220547 -0.185772  \n",
              "V4      0.005759  0.000173 -0.001105  0.002517  0.000028  0.100626  0.130313  \n",
              "V5     -0.012634 -0.004862 -0.001568 -0.006116 -0.000711 -0.390280 -0.088642  \n",
              "V6     -0.021098 -0.006673  0.000702 -0.001577  0.000617  0.224967 -0.044777  \n",
              "V7      0.005375  0.002070 -0.000459 -0.003977  0.001329  0.401573 -0.173292  \n",
              "V8     -0.006000 -0.002827 -0.001122 -0.000108  0.000201 -0.104572  0.033364  \n",
              "V9     -0.002454 -0.000358  0.005307  0.008066  0.006487 -0.041446 -0.094583  \n",
              "V10     0.001015  0.002499 -0.000859  0.011495  0.009956 -0.104586 -0.208104  \n",
              "V11     0.001584 -0.003209 -0.002065  0.002435  0.002176  0.002091  0.151260  \n",
              "V12     0.001695  0.000732 -0.002011 -0.000776 -0.000173 -0.007607 -0.253150  \n",
              "V13    -0.001014 -0.000059  0.000887 -0.001451 -0.000380  0.005123 -0.003934  \n",
              "V14     0.000332  0.002077  0.001404 -0.003828 -0.003178  0.033940 -0.297550  \n",
              "V15    -0.008461 -0.008245  0.001924 -0.001472  0.000156  0.000946 -0.002824  \n",
              "V16    -0.004437 -0.002464 -0.004495 -0.003528 -0.001855 -0.002611 -0.188222  \n",
              "V17     0.004599 -0.003343 -0.001090 -0.003597 -0.003587  0.007075 -0.317202  \n",
              "V18    -0.000836 -0.005231  0.003583 -0.005176 -0.001899  0.036231 -0.106447  \n",
              "V19    -0.001410  0.000465  0.000907 -0.000011  0.000813 -0.056118  0.033784  \n",
              "V20     0.000132 -0.000001 -0.000304 -0.000096  0.001828  0.338585  0.021349  \n",
              "V21     0.002943 -0.001299  0.000828 -0.005524 -0.004461  0.106363  0.026239  \n",
              "V22     0.004008 -0.002331  0.004309  0.001686  0.001670 -0.068382  0.004612  \n",
              "V23    -0.001191  0.003625 -0.002105 -0.001520 -0.002719 -0.110847 -0.006206  \n",
              "V24     1.000000 -0.007007  0.001526 -0.001315  0.000086  0.009043 -0.006831  \n",
              "V25    -0.007007  1.000000  0.004574 -0.001995 -0.001228 -0.045014  0.003593  \n",
              "V26     0.001526  0.004574  1.000000 -0.000958 -0.000570 -0.003074  0.004341  \n",
              "V27    -0.001315 -0.001995 -0.000958  1.000000 -0.014435  0.028293  0.021888  \n",
              "V28     0.000086 -0.001228 -0.000570 -0.014435  1.000000  0.009412  0.009642  \n",
              "Amount  0.009043 -0.045014 -0.003074  0.028293  0.009412  1.000000  0.005451  \n",
              "Class  -0.006831  0.003593  0.004341  0.021888  0.009642  0.005451  1.000000  \n",
              "\n",
              "[30 rows x 30 columns]"
            ],
            "text/html": [
              "\n",
              "  <div id=\"df-98640f39-df40-45c3-9f55-976331362a93\">\n",
              "    <div class=\"colab-df-container\">\n",
              "      <div>\n",
              "<style scoped>\n",
              "    .dataframe tbody tr th:only-of-type {\n",
              "        vertical-align: middle;\n",
              "    }\n",
              "\n",
              "    .dataframe tbody tr th {\n",
              "        vertical-align: top;\n",
              "    }\n",
              "\n",
              "    .dataframe thead th {\n",
              "        text-align: right;\n",
              "    }\n",
              "</style>\n",
              "<table border=\"1\" class=\"dataframe\">\n",
              "  <thead>\n",
              "    <tr style=\"text-align: right;\">\n",
              "      <th></th>\n",
              "      <th>V1</th>\n",
              "      <th>V2</th>\n",
              "      <th>V3</th>\n",
              "      <th>V4</th>\n",
              "      <th>V5</th>\n",
              "      <th>V6</th>\n",
              "      <th>V7</th>\n",
              "      <th>V8</th>\n",
              "      <th>V9</th>\n",
              "      <th>V10</th>\n",
              "      <th>...</th>\n",
              "      <th>V21</th>\n",
              "      <th>V22</th>\n",
              "      <th>V23</th>\n",
              "      <th>V24</th>\n",
              "      <th>V25</th>\n",
              "      <th>V26</th>\n",
              "      <th>V27</th>\n",
              "      <th>V28</th>\n",
              "      <th>Amount</th>\n",
              "      <th>Class</th>\n",
              "    </tr>\n",
              "  </thead>\n",
              "  <tbody>\n",
              "    <tr>\n",
              "      <th>V1</th>\n",
              "      <td>1.000000</td>\n",
              "      <td>0.009002</td>\n",
              "      <td>0.005952</td>\n",
              "      <td>-0.000042</td>\n",
              "      <td>-0.018593</td>\n",
              "      <td>-0.005789</td>\n",
              "      <td>-0.006843</td>\n",
              "      <td>-0.000490</td>\n",
              "      <td>-0.007093</td>\n",
              "      <td>0.003115</td>\n",
              "      <td>...</td>\n",
              "      <td>0.006004</td>\n",
              "      <td>0.003634</td>\n",
              "      <td>-0.007504</td>\n",
              "      <td>-0.009327</td>\n",
              "      <td>-0.004446</td>\n",
              "      <td>-0.002436</td>\n",
              "      <td>-0.014628</td>\n",
              "      <td>-0.003555</td>\n",
              "      <td>-0.225854</td>\n",
              "      <td>-0.094718</td>\n",
              "    </tr>\n",
              "    <tr>\n",
              "      <th>V2</th>\n",
              "      <td>0.009002</td>\n",
              "      <td>1.000000</td>\n",
              "      <td>0.004976</td>\n",
              "      <td>-0.004095</td>\n",
              "      <td>0.004655</td>\n",
              "      <td>0.004290</td>\n",
              "      <td>0.004866</td>\n",
              "      <td>0.003743</td>\n",
              "      <td>0.001116</td>\n",
              "      <td>0.002764</td>\n",
              "      <td>...</td>\n",
              "      <td>-0.003881</td>\n",
              "      <td>0.002909</td>\n",
              "      <td>-0.003689</td>\n",
              "      <td>0.001974</td>\n",
              "      <td>-0.002837</td>\n",
              "      <td>-0.000296</td>\n",
              "      <td>0.007252</td>\n",
              "      <td>0.001458</td>\n",
              "      <td>-0.534153</td>\n",
              "      <td>0.084754</td>\n",
              "    </tr>\n",
              "    <tr>\n",
              "      <th>V3</th>\n",
              "      <td>0.005952</td>\n",
              "      <td>0.004976</td>\n",
              "      <td>1.000000</td>\n",
              "      <td>-0.000721</td>\n",
              "      <td>0.011020</td>\n",
              "      <td>0.014780</td>\n",
              "      <td>-0.014016</td>\n",
              "      <td>0.003733</td>\n",
              "      <td>-0.002896</td>\n",
              "      <td>-0.011064</td>\n",
              "      <td>...</td>\n",
              "      <td>0.001818</td>\n",
              "      <td>-0.004203</td>\n",
              "      <td>0.002183</td>\n",
              "      <td>0.009782</td>\n",
              "      <td>0.004091</td>\n",
              "      <td>0.003596</td>\n",
              "      <td>-0.008780</td>\n",
              "      <td>-0.002454</td>\n",
              "      <td>-0.220547</td>\n",
              "      <td>-0.185772</td>\n",
              "    </tr>\n",
              "    <tr>\n",
              "      <th>V4</th>\n",
              "      <td>-0.000042</td>\n",
              "      <td>-0.004095</td>\n",
              "      <td>-0.000721</td>\n",
              "      <td>1.000000</td>\n",
              "      <td>0.006710</td>\n",
              "      <td>0.012535</td>\n",
              "      <td>0.000806</td>\n",
              "      <td>0.004996</td>\n",
              "      <td>0.001395</td>\n",
              "      <td>0.003366</td>\n",
              "      <td>...</td>\n",
              "      <td>-0.000623</td>\n",
              "      <td>0.001581</td>\n",
              "      <td>-0.000155</td>\n",
              "      <td>0.005759</td>\n",
              "      <td>0.000173</td>\n",
              "      <td>-0.001105</td>\n",
              "      <td>0.002517</td>\n",
              "      <td>0.000028</td>\n",
              "      <td>0.100626</td>\n",
              "      <td>0.130313</td>\n",
              "    </tr>\n",
              "    <tr>\n",
              "      <th>V5</th>\n",
              "      <td>-0.018593</td>\n",
              "      <td>0.004655</td>\n",
              "      <td>0.011020</td>\n",
              "      <td>0.006710</td>\n",
              "      <td>1.000000</td>\n",
              "      <td>-0.029701</td>\n",
              "      <td>-0.009107</td>\n",
              "      <td>-0.002605</td>\n",
              "      <td>-0.000786</td>\n",
              "      <td>-0.002818</td>\n",
              "      <td>...</td>\n",
              "      <td>0.003439</td>\n",
              "      <td>0.002971</td>\n",
              "      <td>-0.001058</td>\n",
              "      <td>-0.012634</td>\n",
              "      <td>-0.004862</td>\n",
              "      <td>-0.001568</td>\n",
              "      <td>-0.006116</td>\n",
              "      <td>-0.000711</td>\n",
              "      <td>-0.390280</td>\n",
              "      <td>-0.088642</td>\n",
              "    </tr>\n",
              "    <tr>\n",
              "      <th>V6</th>\n",
              "      <td>-0.005789</td>\n",
              "      <td>0.004290</td>\n",
              "      <td>0.014780</td>\n",
              "      <td>0.012535</td>\n",
              "      <td>-0.029701</td>\n",
              "      <td>1.000000</td>\n",
              "      <td>0.013087</td>\n",
              "      <td>-0.012301</td>\n",
              "      <td>-0.002290</td>\n",
              "      <td>-0.002723</td>\n",
              "      <td>...</td>\n",
              "      <td>-0.001584</td>\n",
              "      <td>0.002355</td>\n",
              "      <td>-0.000221</td>\n",
              "      <td>-0.021098</td>\n",
              "      <td>-0.006673</td>\n",
              "      <td>0.000702</td>\n",
              "      <td>-0.001577</td>\n",
              "      <td>0.000617</td>\n",
              "      <td>0.224967</td>\n",
              "      <td>-0.044777</td>\n",
              "    </tr>\n",
              "    <tr>\n",
              "      <th>V7</th>\n",
              "      <td>-0.006843</td>\n",
              "      <td>0.004866</td>\n",
              "      <td>-0.014016</td>\n",
              "      <td>0.000806</td>\n",
              "      <td>-0.009107</td>\n",
              "      <td>0.013087</td>\n",
              "      <td>1.000000</td>\n",
              "      <td>-0.000987</td>\n",
              "      <td>-0.001657</td>\n",
              "      <td>-0.012246</td>\n",
              "      <td>...</td>\n",
              "      <td>0.008635</td>\n",
              "      <td>-0.001701</td>\n",
              "      <td>0.003458</td>\n",
              "      <td>0.005375</td>\n",
              "      <td>0.002070</td>\n",
              "      <td>-0.000459</td>\n",
              "      <td>-0.003977</td>\n",
              "      <td>0.001329</td>\n",
              "      <td>0.401573</td>\n",
              "      <td>-0.173292</td>\n",
              "    </tr>\n",
              "    <tr>\n",
              "      <th>V8</th>\n",
              "      <td>-0.000490</td>\n",
              "      <td>0.003743</td>\n",
              "      <td>0.003733</td>\n",
              "      <td>0.004996</td>\n",
              "      <td>-0.002605</td>\n",
              "      <td>-0.012301</td>\n",
              "      <td>-0.000987</td>\n",
              "      <td>1.000000</td>\n",
              "      <td>0.000168</td>\n",
              "      <td>0.000239</td>\n",
              "      <td>...</td>\n",
              "      <td>0.018806</td>\n",
              "      <td>-0.005182</td>\n",
              "      <td>0.006461</td>\n",
              "      <td>-0.006000</td>\n",
              "      <td>-0.002827</td>\n",
              "      <td>-0.001122</td>\n",
              "      <td>-0.000108</td>\n",
              "      <td>0.000201</td>\n",
              "      <td>-0.104572</td>\n",
              "      <td>0.033364</td>\n",
              "    </tr>\n",
              "    <tr>\n",
              "      <th>V9</th>\n",
              "      <td>-0.007093</td>\n",
              "      <td>0.001116</td>\n",
              "      <td>-0.002896</td>\n",
              "      <td>0.001395</td>\n",
              "      <td>-0.000786</td>\n",
              "      <td>-0.002290</td>\n",
              "      <td>-0.001657</td>\n",
              "      <td>0.000168</td>\n",
              "      <td>1.000000</td>\n",
              "      <td>-0.004957</td>\n",
              "      <td>...</td>\n",
              "      <td>0.001744</td>\n",
              "      <td>0.000742</td>\n",
              "      <td>-0.001739</td>\n",
              "      <td>-0.002454</td>\n",
              "      <td>-0.000358</td>\n",
              "      <td>0.005307</td>\n",
              "      <td>0.008066</td>\n",
              "      <td>0.006487</td>\n",
              "      <td>-0.041446</td>\n",
              "      <td>-0.094583</td>\n",
              "    </tr>\n",
              "    <tr>\n",
              "      <th>V10</th>\n",
              "      <td>0.003115</td>\n",
              "      <td>0.002764</td>\n",
              "      <td>-0.011064</td>\n",
              "      <td>0.003366</td>\n",
              "      <td>-0.002818</td>\n",
              "      <td>-0.002723</td>\n",
              "      <td>-0.012246</td>\n",
              "      <td>0.000239</td>\n",
              "      <td>-0.004957</td>\n",
              "      <td>1.000000</td>\n",
              "      <td>...</td>\n",
              "      <td>0.002396</td>\n",
              "      <td>-0.003012</td>\n",
              "      <td>0.001760</td>\n",
              "      <td>0.001015</td>\n",
              "      <td>0.002499</td>\n",
              "      <td>-0.000859</td>\n",
              "      <td>0.011495</td>\n",
              "      <td>0.009956</td>\n",
              "      <td>-0.104586</td>\n",
              "      <td>-0.208104</td>\n",
              "    </tr>\n",
              "    <tr>\n",
              "      <th>V11</th>\n",
              "      <td>-0.005238</td>\n",
              "      <td>-0.001808</td>\n",
              "      <td>0.003763</td>\n",
              "      <td>-0.004402</td>\n",
              "      <td>-0.002965</td>\n",
              "      <td>0.000446</td>\n",
              "      <td>0.001731</td>\n",
              "      <td>0.005165</td>\n",
              "      <td>-0.001583</td>\n",
              "      <td>0.005211</td>\n",
              "      <td>...</td>\n",
              "      <td>-0.002331</td>\n",
              "      <td>0.000804</td>\n",
              "      <td>-0.000839</td>\n",
              "      <td>0.001584</td>\n",
              "      <td>-0.003209</td>\n",
              "      <td>-0.002065</td>\n",
              "      <td>0.002435</td>\n",
              "      <td>0.002176</td>\n",
              "      <td>0.002091</td>\n",
              "      <td>0.151260</td>\n",
              "    </tr>\n",
              "    <tr>\n",
              "      <th>V12</th>\n",
              "      <td>-0.005225</td>\n",
              "      <td>0.001480</td>\n",
              "      <td>-0.003365</td>\n",
              "      <td>0.000561</td>\n",
              "      <td>-0.000343</td>\n",
              "      <td>0.004288</td>\n",
              "      <td>-0.007378</td>\n",
              "      <td>-0.004134</td>\n",
              "      <td>0.000221</td>\n",
              "      <td>-0.007395</td>\n",
              "      <td>...</td>\n",
              "      <td>0.004192</td>\n",
              "      <td>0.002967</td>\n",
              "      <td>-0.001101</td>\n",
              "      <td>0.001695</td>\n",
              "      <td>0.000732</td>\n",
              "      <td>-0.002011</td>\n",
              "      <td>-0.000776</td>\n",
              "      <td>-0.000173</td>\n",
              "      <td>-0.007607</td>\n",
              "      <td>-0.253150</td>\n",
              "    </tr>\n",
              "    <tr>\n",
              "      <th>V13</th>\n",
              "      <td>0.000176</td>\n",
              "      <td>0.000461</td>\n",
              "      <td>-0.000753</td>\n",
              "      <td>0.000332</td>\n",
              "      <td>0.001201</td>\n",
              "      <td>-0.000140</td>\n",
              "      <td>0.001019</td>\n",
              "      <td>-0.001341</td>\n",
              "      <td>-0.000259</td>\n",
              "      <td>0.000890</td>\n",
              "      <td>...</td>\n",
              "      <td>0.001101</td>\n",
              "      <td>0.000214</td>\n",
              "      <td>0.000711</td>\n",
              "      <td>-0.001014</td>\n",
              "      <td>-0.000059</td>\n",
              "      <td>0.000887</td>\n",
              "      <td>-0.001451</td>\n",
              "      <td>-0.000380</td>\n",
              "      <td>0.005123</td>\n",
              "      <td>-0.003934</td>\n",
              "    </tr>\n",
              "    <tr>\n",
              "      <th>V14</th>\n",
              "      <td>-0.000167</td>\n",
              "      <td>0.004772</td>\n",
              "      <td>-0.008208</td>\n",
              "      <td>0.005336</td>\n",
              "      <td>0.005175</td>\n",
              "      <td>0.000178</td>\n",
              "      <td>-0.002006</td>\n",
              "      <td>-0.009568</td>\n",
              "      <td>-0.005125</td>\n",
              "      <td>-0.004616</td>\n",
              "      <td>...</td>\n",
              "      <td>0.004711</td>\n",
              "      <td>-0.004795</td>\n",
              "      <td>0.000929</td>\n",
              "      <td>0.000332</td>\n",
              "      <td>0.002077</td>\n",
              "      <td>0.001404</td>\n",
              "      <td>-0.003828</td>\n",
              "      <td>-0.003178</td>\n",
              "      <td>0.033940</td>\n",
              "      <td>-0.297550</td>\n",
              "    </tr>\n",
              "    <tr>\n",
              "      <th>V15</th>\n",
              "      <td>-0.008538</td>\n",
              "      <td>0.001176</td>\n",
              "      <td>0.003324</td>\n",
              "      <td>0.004045</td>\n",
              "      <td>-0.007122</td>\n",
              "      <td>-0.009363</td>\n",
              "      <td>0.002165</td>\n",
              "      <td>-0.002322</td>\n",
              "      <td>-0.004912</td>\n",
              "      <td>0.003366</td>\n",
              "      <td>...</td>\n",
              "      <td>0.001137</td>\n",
              "      <td>0.002579</td>\n",
              "      <td>0.000727</td>\n",
              "      <td>-0.008461</td>\n",
              "      <td>-0.008245</td>\n",
              "      <td>0.001924</td>\n",
              "      <td>-0.001472</td>\n",
              "      <td>0.000156</td>\n",
              "      <td>0.000946</td>\n",
              "      <td>-0.002824</td>\n",
              "    </tr>\n",
              "    <tr>\n",
              "      <th>V16</th>\n",
              "      <td>-0.006376</td>\n",
              "      <td>0.002648</td>\n",
              "      <td>0.000336</td>\n",
              "      <td>0.001783</td>\n",
              "      <td>-0.004147</td>\n",
              "      <td>-0.002538</td>\n",
              "      <td>-0.003553</td>\n",
              "      <td>-0.006868</td>\n",
              "      <td>0.002680</td>\n",
              "      <td>-0.003637</td>\n",
              "      <td>...</td>\n",
              "      <td>0.005267</td>\n",
              "      <td>0.003296</td>\n",
              "      <td>0.001524</td>\n",
              "      <td>-0.004437</td>\n",
              "      <td>-0.002464</td>\n",
              "      <td>-0.004495</td>\n",
              "      <td>-0.003528</td>\n",
              "      <td>-0.001855</td>\n",
              "      <td>-0.002611</td>\n",
              "      <td>-0.188222</td>\n",
              "    </tr>\n",
              "    <tr>\n",
              "      <th>V17</th>\n",
              "      <td>-0.001709</td>\n",
              "      <td>0.001304</td>\n",
              "      <td>-0.002813</td>\n",
              "      <td>0.001633</td>\n",
              "      <td>-0.005422</td>\n",
              "      <td>0.001747</td>\n",
              "      <td>-0.009985</td>\n",
              "      <td>-0.006049</td>\n",
              "      <td>-0.000488</td>\n",
              "      <td>-0.001841</td>\n",
              "      <td>...</td>\n",
              "      <td>0.004163</td>\n",
              "      <td>0.000546</td>\n",
              "      <td>0.002412</td>\n",
              "      <td>0.004599</td>\n",
              "      <td>-0.003343</td>\n",
              "      <td>-0.001090</td>\n",
              "      <td>-0.003597</td>\n",
              "      <td>-0.003587</td>\n",
              "      <td>0.007075</td>\n",
              "      <td>-0.317202</td>\n",
              "    </tr>\n",
              "    <tr>\n",
              "      <th>V18</th>\n",
              "      <td>-0.000037</td>\n",
              "      <td>0.000363</td>\n",
              "      <td>-0.003876</td>\n",
              "      <td>0.001569</td>\n",
              "      <td>-0.003108</td>\n",
              "      <td>0.000734</td>\n",
              "      <td>-0.004092</td>\n",
              "      <td>-0.002092</td>\n",
              "      <td>-0.000957</td>\n",
              "      <td>0.000911</td>\n",
              "      <td>...</td>\n",
              "      <td>0.000619</td>\n",
              "      <td>-0.004321</td>\n",
              "      <td>0.003488</td>\n",
              "      <td>-0.000836</td>\n",
              "      <td>-0.005231</td>\n",
              "      <td>0.003583</td>\n",
              "      <td>-0.005176</td>\n",
              "      <td>-0.001899</td>\n",
              "      <td>0.036231</td>\n",
              "      <td>-0.106447</td>\n",
              "    </tr>\n",
              "    <tr>\n",
              "      <th>V19</th>\n",
              "      <td>-0.000366</td>\n",
              "      <td>0.001164</td>\n",
              "      <td>-0.000828</td>\n",
              "      <td>0.005018</td>\n",
              "      <td>0.000351</td>\n",
              "      <td>0.000880</td>\n",
              "      <td>0.000590</td>\n",
              "      <td>0.000855</td>\n",
              "      <td>-0.000936</td>\n",
              "      <td>0.000379</td>\n",
              "      <td>...</td>\n",
              "      <td>0.000886</td>\n",
              "      <td>0.003521</td>\n",
              "      <td>-0.000357</td>\n",
              "      <td>-0.001410</td>\n",
              "      <td>0.000465</td>\n",
              "      <td>0.000907</td>\n",
              "      <td>-0.000011</td>\n",
              "      <td>0.000813</td>\n",
              "      <td>-0.056118</td>\n",
              "      <td>0.033784</td>\n",
              "    </tr>\n",
              "    <tr>\n",
              "      <th>V20</th>\n",
              "      <td>0.003109</td>\n",
              "      <td>-0.000339</td>\n",
              "      <td>-0.004587</td>\n",
              "      <td>0.001165</td>\n",
              "      <td>-0.000788</td>\n",
              "      <td>-0.001835</td>\n",
              "      <td>-0.002196</td>\n",
              "      <td>0.000562</td>\n",
              "      <td>0.000613</td>\n",
              "      <td>-0.004506</td>\n",
              "      <td>...</td>\n",
              "      <td>0.004392</td>\n",
              "      <td>-0.002322</td>\n",
              "      <td>0.000748</td>\n",
              "      <td>0.000132</td>\n",
              "      <td>-0.000001</td>\n",
              "      <td>-0.000304</td>\n",
              "      <td>-0.000096</td>\n",
              "      <td>0.001828</td>\n",
              "      <td>0.338585</td>\n",
              "      <td>0.021349</td>\n",
              "    </tr>\n",
              "    <tr>\n",
              "      <th>V21</th>\n",
              "      <td>0.006004</td>\n",
              "      <td>-0.003881</td>\n",
              "      <td>0.001818</td>\n",
              "      <td>-0.000623</td>\n",
              "      <td>0.003439</td>\n",
              "      <td>-0.001584</td>\n",
              "      <td>0.008635</td>\n",
              "      <td>0.018806</td>\n",
              "      <td>0.001744</td>\n",
              "      <td>0.002396</td>\n",
              "      <td>...</td>\n",
              "      <td>1.000000</td>\n",
              "      <td>0.001795</td>\n",
              "      <td>-0.004336</td>\n",
              "      <td>0.002943</td>\n",
              "      <td>-0.001299</td>\n",
              "      <td>0.000828</td>\n",
              "      <td>-0.005524</td>\n",
              "      <td>-0.004461</td>\n",
              "      <td>0.106363</td>\n",
              "      <td>0.026239</td>\n",
              "    </tr>\n",
              "    <tr>\n",
              "      <th>V22</th>\n",
              "      <td>0.003634</td>\n",
              "      <td>0.002909</td>\n",
              "      <td>-0.004203</td>\n",
              "      <td>0.001581</td>\n",
              "      <td>0.002971</td>\n",
              "      <td>0.002355</td>\n",
              "      <td>-0.001701</td>\n",
              "      <td>-0.005182</td>\n",
              "      <td>0.000742</td>\n",
              "      <td>-0.003012</td>\n",
              "      <td>...</td>\n",
              "      <td>0.001795</td>\n",
              "      <td>1.000000</td>\n",
              "      <td>0.006161</td>\n",
              "      <td>0.004008</td>\n",
              "      <td>-0.002331</td>\n",
              "      <td>0.004309</td>\n",
              "      <td>0.001686</td>\n",
              "      <td>0.001670</td>\n",
              "      <td>-0.068382</td>\n",
              "      <td>0.004612</td>\n",
              "    </tr>\n",
              "    <tr>\n",
              "      <th>V23</th>\n",
              "      <td>-0.007504</td>\n",
              "      <td>-0.003689</td>\n",
              "      <td>0.002183</td>\n",
              "      <td>-0.000155</td>\n",
              "      <td>-0.001058</td>\n",
              "      <td>-0.000221</td>\n",
              "      <td>0.003458</td>\n",
              "      <td>0.006461</td>\n",
              "      <td>-0.001739</td>\n",
              "      <td>0.001760</td>\n",
              "      <td>...</td>\n",
              "      <td>-0.004336</td>\n",
              "      <td>0.006161</td>\n",
              "      <td>1.000000</td>\n",
              "      <td>-0.001191</td>\n",
              "      <td>0.003625</td>\n",
              "      <td>-0.002105</td>\n",
              "      <td>-0.001520</td>\n",
              "      <td>-0.002719</td>\n",
              "      <td>-0.110847</td>\n",
              "      <td>-0.006206</td>\n",
              "    </tr>\n",
              "    <tr>\n",
              "      <th>V24</th>\n",
              "      <td>-0.009327</td>\n",
              "      <td>0.001974</td>\n",
              "      <td>0.009782</td>\n",
              "      <td>0.005759</td>\n",
              "      <td>-0.012634</td>\n",
              "      <td>-0.021098</td>\n",
              "      <td>0.005375</td>\n",
              "      <td>-0.006000</td>\n",
              "      <td>-0.002454</td>\n",
              "      <td>0.001015</td>\n",
              "      <td>...</td>\n",
              "      <td>0.002943</td>\n",
              "      <td>0.004008</td>\n",
              "      <td>-0.001191</td>\n",
              "      <td>1.000000</td>\n",
              "      <td>-0.007007</td>\n",
              "      <td>0.001526</td>\n",
              "      <td>-0.001315</td>\n",
              "      <td>0.000086</td>\n",
              "      <td>0.009043</td>\n",
              "      <td>-0.006831</td>\n",
              "    </tr>\n",
              "    <tr>\n",
              "      <th>V25</th>\n",
              "      <td>-0.004446</td>\n",
              "      <td>-0.002837</td>\n",
              "      <td>0.004091</td>\n",
              "      <td>0.000173</td>\n",
              "      <td>-0.004862</td>\n",
              "      <td>-0.006673</td>\n",
              "      <td>0.002070</td>\n",
              "      <td>-0.002827</td>\n",
              "      <td>-0.000358</td>\n",
              "      <td>0.002499</td>\n",
              "      <td>...</td>\n",
              "      <td>-0.001299</td>\n",
              "      <td>-0.002331</td>\n",
              "      <td>0.003625</td>\n",
              "      <td>-0.007007</td>\n",
              "      <td>1.000000</td>\n",
              "      <td>0.004574</td>\n",
              "      <td>-0.001995</td>\n",
              "      <td>-0.001228</td>\n",
              "      <td>-0.045014</td>\n",
              "      <td>0.003593</td>\n",
              "    </tr>\n",
              "    <tr>\n",
              "      <th>V26</th>\n",
              "      <td>-0.002436</td>\n",
              "      <td>-0.000296</td>\n",
              "      <td>0.003596</td>\n",
              "      <td>-0.001105</td>\n",
              "      <td>-0.001568</td>\n",
              "      <td>0.000702</td>\n",
              "      <td>-0.000459</td>\n",
              "      <td>-0.001122</td>\n",
              "      <td>0.005307</td>\n",
              "      <td>-0.000859</td>\n",
              "      <td>...</td>\n",
              "      <td>0.000828</td>\n",
              "      <td>0.004309</td>\n",
              "      <td>-0.002105</td>\n",
              "      <td>0.001526</td>\n",
              "      <td>0.004574</td>\n",
              "      <td>1.000000</td>\n",
              "      <td>-0.000958</td>\n",
              "      <td>-0.000570</td>\n",
              "      <td>-0.003074</td>\n",
              "      <td>0.004341</td>\n",
              "    </tr>\n",
              "    <tr>\n",
              "      <th>V27</th>\n",
              "      <td>-0.014628</td>\n",
              "      <td>0.007252</td>\n",
              "      <td>-0.008780</td>\n",
              "      <td>0.002517</td>\n",
              "      <td>-0.006116</td>\n",
              "      <td>-0.001577</td>\n",
              "      <td>-0.003977</td>\n",
              "      <td>-0.000108</td>\n",
              "      <td>0.008066</td>\n",
              "      <td>0.011495</td>\n",
              "      <td>...</td>\n",
              "      <td>-0.005524</td>\n",
              "      <td>0.001686</td>\n",
              "      <td>-0.001520</td>\n",
              "      <td>-0.001315</td>\n",
              "      <td>-0.001995</td>\n",
              "      <td>-0.000958</td>\n",
              "      <td>1.000000</td>\n",
              "      <td>-0.014435</td>\n",
              "      <td>0.028293</td>\n",
              "      <td>0.021888</td>\n",
              "    </tr>\n",
              "    <tr>\n",
              "      <th>V28</th>\n",
              "      <td>-0.003555</td>\n",
              "      <td>0.001458</td>\n",
              "      <td>-0.002454</td>\n",
              "      <td>0.000028</td>\n",
              "      <td>-0.000711</td>\n",
              "      <td>0.000617</td>\n",
              "      <td>0.001329</td>\n",
              "      <td>0.000201</td>\n",
              "      <td>0.006487</td>\n",
              "      <td>0.009956</td>\n",
              "      <td>...</td>\n",
              "      <td>-0.004461</td>\n",
              "      <td>0.001670</td>\n",
              "      <td>-0.002719</td>\n",
              "      <td>0.000086</td>\n",
              "      <td>-0.001228</td>\n",
              "      <td>-0.000570</td>\n",
              "      <td>-0.014435</td>\n",
              "      <td>1.000000</td>\n",
              "      <td>0.009412</td>\n",
              "      <td>0.009642</td>\n",
              "    </tr>\n",
              "    <tr>\n",
              "      <th>Amount</th>\n",
              "      <td>-0.225854</td>\n",
              "      <td>-0.534153</td>\n",
              "      <td>-0.220547</td>\n",
              "      <td>0.100626</td>\n",
              "      <td>-0.390280</td>\n",
              "      <td>0.224967</td>\n",
              "      <td>0.401573</td>\n",
              "      <td>-0.104572</td>\n",
              "      <td>-0.041446</td>\n",
              "      <td>-0.104586</td>\n",
              "      <td>...</td>\n",
              "      <td>0.106363</td>\n",
              "      <td>-0.068382</td>\n",
              "      <td>-0.110847</td>\n",
              "      <td>0.009043</td>\n",
              "      <td>-0.045014</td>\n",
              "      <td>-0.003074</td>\n",
              "      <td>0.028293</td>\n",
              "      <td>0.009412</td>\n",
              "      <td>1.000000</td>\n",
              "      <td>0.005451</td>\n",
              "    </tr>\n",
              "    <tr>\n",
              "      <th>Class</th>\n",
              "      <td>-0.094718</td>\n",
              "      <td>0.084754</td>\n",
              "      <td>-0.185772</td>\n",
              "      <td>0.130313</td>\n",
              "      <td>-0.088642</td>\n",
              "      <td>-0.044777</td>\n",
              "      <td>-0.173292</td>\n",
              "      <td>0.033364</td>\n",
              "      <td>-0.094583</td>\n",
              "      <td>-0.208104</td>\n",
              "      <td>...</td>\n",
              "      <td>0.026239</td>\n",
              "      <td>0.004612</td>\n",
              "      <td>-0.006206</td>\n",
              "      <td>-0.006831</td>\n",
              "      <td>0.003593</td>\n",
              "      <td>0.004341</td>\n",
              "      <td>0.021888</td>\n",
              "      <td>0.009642</td>\n",
              "      <td>0.005451</td>\n",
              "      <td>1.000000</td>\n",
              "    </tr>\n",
              "  </tbody>\n",
              "</table>\n",
              "<p>30 rows × 30 columns</p>\n",
              "</div>\n",
              "      <button class=\"colab-df-convert\" onclick=\"convertToInteractive('df-98640f39-df40-45c3-9f55-976331362a93')\"\n",
              "              title=\"Convert this dataframe to an interactive table.\"\n",
              "              style=\"display:none;\">\n",
              "        \n",
              "  <svg xmlns=\"http://www.w3.org/2000/svg\" height=\"24px\"viewBox=\"0 0 24 24\"\n",
              "       width=\"24px\">\n",
              "    <path d=\"M0 0h24v24H0V0z\" fill=\"none\"/>\n",
              "    <path d=\"M18.56 5.44l.94 2.06.94-2.06 2.06-.94-2.06-.94-.94-2.06-.94 2.06-2.06.94zm-11 1L8.5 8.5l.94-2.06 2.06-.94-2.06-.94L8.5 2.5l-.94 2.06-2.06.94zm10 10l.94 2.06.94-2.06 2.06-.94-2.06-.94-.94-2.06-.94 2.06-2.06.94z\"/><path d=\"M17.41 7.96l-1.37-1.37c-.4-.4-.92-.59-1.43-.59-.52 0-1.04.2-1.43.59L10.3 9.45l-7.72 7.72c-.78.78-.78 2.05 0 2.83L4 21.41c.39.39.9.59 1.41.59.51 0 1.02-.2 1.41-.59l7.78-7.78 2.81-2.81c.8-.78.8-2.07 0-2.86zM5.41 20L4 18.59l7.72-7.72 1.47 1.35L5.41 20z\"/>\n",
              "  </svg>\n",
              "      </button>\n",
              "      \n",
              "  <style>\n",
              "    .colab-df-container {\n",
              "      display:flex;\n",
              "      flex-wrap:wrap;\n",
              "      gap: 12px;\n",
              "    }\n",
              "\n",
              "    .colab-df-convert {\n",
              "      background-color: #E8F0FE;\n",
              "      border: none;\n",
              "      border-radius: 50%;\n",
              "      cursor: pointer;\n",
              "      display: none;\n",
              "      fill: #1967D2;\n",
              "      height: 32px;\n",
              "      padding: 0 0 0 0;\n",
              "      width: 32px;\n",
              "    }\n",
              "\n",
              "    .colab-df-convert:hover {\n",
              "      background-color: #E2EBFA;\n",
              "      box-shadow: 0px 1px 2px rgba(60, 64, 67, 0.3), 0px 1px 3px 1px rgba(60, 64, 67, 0.15);\n",
              "      fill: #174EA6;\n",
              "    }\n",
              "\n",
              "    [theme=dark] .colab-df-convert {\n",
              "      background-color: #3B4455;\n",
              "      fill: #D2E3FC;\n",
              "    }\n",
              "\n",
              "    [theme=dark] .colab-df-convert:hover {\n",
              "      background-color: #434B5C;\n",
              "      box-shadow: 0px 1px 3px 1px rgba(0, 0, 0, 0.15);\n",
              "      filter: drop-shadow(0px 1px 2px rgba(0, 0, 0, 0.3));\n",
              "      fill: #FFFFFF;\n",
              "    }\n",
              "  </style>\n",
              "\n",
              "      <script>\n",
              "        const buttonEl =\n",
              "          document.querySelector('#df-98640f39-df40-45c3-9f55-976331362a93 button.colab-df-convert');\n",
              "        buttonEl.style.display =\n",
              "          google.colab.kernel.accessAllowed ? 'block' : 'none';\n",
              "\n",
              "        async function convertToInteractive(key) {\n",
              "          const element = document.querySelector('#df-98640f39-df40-45c3-9f55-976331362a93');\n",
              "          const dataTable =\n",
              "            await google.colab.kernel.invokeFunction('convertToInteractive',\n",
              "                                                     [key], {});\n",
              "          if (!dataTable) return;\n",
              "\n",
              "          const docLinkHtml = 'Like what you see? Visit the ' +\n",
              "            '<a target=\"_blank\" href=https://colab.research.google.com/notebooks/data_table.ipynb>data table notebook</a>'\n",
              "            + ' to learn more about interactive tables.';\n",
              "          element.innerHTML = '';\n",
              "          dataTable['output_type'] = 'display_data';\n",
              "          await google.colab.output.renderOutput(dataTable, element);\n",
              "          const docLink = document.createElement('div');\n",
              "          docLink.innerHTML = docLinkHtml;\n",
              "          element.appendChild(docLink);\n",
              "        }\n",
              "      </script>\n",
              "    </div>\n",
              "  </div>\n",
              "  "
            ]
          },
          "metadata": {},
          "execution_count": 47
        }
      ],
      "source": [
        "dfc"
      ]
    },
    {
      "cell_type": "code",
      "execution_count": 48,
      "metadata": {
        "colab": {
          "base_uri": "https://localhost:8080/",
          "height": 315
        },
        "id": "lo_C9wJhE2kI",
        "outputId": "4bda973d-3805-4504-e3a1-c45b26add6ea"
      },
      "outputs": [
        {
          "output_type": "execute_result",
          "data": {
            "text/plain": [
              "<matplotlib.axes._subplots.AxesSubplot at 0x7f881f33c850>"
            ]
          },
          "metadata": {},
          "execution_count": 48
        },
        {
          "output_type": "display_data",
          "data": {
            "text/plain": [
              "<Figure size 432x288 with 2 Axes>"
            ],
            "image/png": "[encoded data removed]"
          },
          "metadata": {
            "needs_background": "light"
          }
        }
      ],
      "source": [
        "sns.heatmap(dfc)"
      ]
    },
    {
      "cell_type": "code",
      "execution_count": 49,
      "metadata": {
        "colab": {
          "base_uri": "https://localhost:8080/",
          "height": 747
        },
        "id": "5tNF3HN_E6Qj",
        "outputId": "916ba666-594a-4d94-938e-f4bcc0f17df7"
      },
      "outputs": [
        {
          "output_type": "execute_result",
          "data": {
            "text/plain": [
              "<seaborn.matrix.ClusterGrid at 0x7f881f227150>"
            ]
          },
          "metadata": {},
          "execution_count": 49
        },
        {
          "output_type": "display_data",
          "data": {
            "text/plain": [
              "<Figure size 720x720 with 4 Axes>"
            ],
            "image/png": "[encoded data removed]"
          },
          "metadata": {
            "needs_background": "light"
          }
        }
      ],
      "source": [
        "#df.pivot_table(index='',columns='',values='')\n",
        "sns.clustermap(dfc)"
      ]
    },
    {
      "cell_type": "code",
      "execution_count": 50,
      "metadata": {
        "colab": {
          "base_uri": "https://localhost:8080/",
          "height": 351
        },
        "id": "bIACdE_ZGgZc",
        "outputId": "0543c960-8d55-483c-dd7d-d6ca0dfa47a7"
      },
      "outputs": [
        {
          "output_type": "stream",
          "name": "stderr",
          "text": [
            "/usr/local/lib/python3.7/dist-packages/seaborn/distributions.py:2619: FutureWarning: `distplot` is a deprecated function and will be removed in a future version. Please adapt your code to use either `displot` (a figure-level function with similar flexibility) or `histplot` (an axes-level function for histograms).\n",
            "  warnings.warn(msg, FutureWarning)\n"
          ]
        },
        {
          "output_type": "execute_result",
          "data": {
            "text/plain": [
              "<matplotlib.axes._subplots.AxesSubplot at 0x7f881f07d0d0>"
            ]
          },
          "metadata": {},
          "execution_count": 50
        },
        {
          "output_type": "display_data",
          "data": {
            "text/plain": [
              "<Figure size 432x288 with 1 Axes>"
            ],
            "image/png": "[encoded data removed]"
          },
          "metadata": {
            "needs_background": "light"
          }
        }
      ],
      "source": [
        "sns.distplot(df['V11'],bins=40)"
      ]
    },
    {
      "cell_type": "markdown",
      "metadata": {
        "id": "Hj5404U-3yN9"
      },
      "source": [
        "LOGISTIC REGRESSION"
      ]
    },
    {
      "cell_type": "code",
      "execution_count": 51,
      "metadata": {
        "id": "O1jajzmDsgle"
      },
      "outputs": [],
      "source": [
        "from sklearn.linear_model import LogisticRegression"
      ]
    },
    {
      "cell_type": "code",
      "execution_count": 52,
      "metadata": {
        "id": "rggC6OgG24-4"
      },
      "outputs": [],
      "source": [
        "lr=LogisticRegression()"
      ]
    },
    {
      "cell_type": "code",
      "execution_count": 53,
      "metadata": {
        "colab": {
          "base_uri": "https://localhost:8080/"
        },
        "id": "QmNoWPvH3Cbf",
        "outputId": "3a311108-7c7c-4187-92bf-b42dd770f1d4"
      },
      "outputs": [
        {
          "output_type": "execute_result",
          "data": {
            "text/plain": [
              "LogisticRegression()"
            ]
          },
          "metadata": {},
          "execution_count": 53
        }
      ],
      "source": [
        "lr.fit(X_train,y_train)"
      ]
    },
    {
      "cell_type": "code",
      "execution_count": 54,
      "metadata": {
        "id": "Cz6_16bZ3JX-"
      },
      "outputs": [],
      "source": [
        "y_out=lr.predict(X_test)"
      ]
    },
    {
      "cell_type": "code",
      "execution_count": 55,
      "metadata": {
        "colab": {
          "base_uri": "https://localhost:8080/"
        },
        "id": "nSNevk0g3QLq",
        "outputId": "d3dec957-21b8-4f24-a316-b7e400f2edce"
      },
      "outputs": [
        {
          "output_type": "execute_result",
          "data": {
            "text/plain": [
              "array([0, 0, 0, ..., 0, 0, 0])"
            ]
          },
          "metadata": {},
          "execution_count": 55
        }
      ],
      "source": [
        "y_out\n"
      ]
    },
    {
      "cell_type": "markdown",
      "metadata": {
        "id": "4fVq5vKw3VPT"
      },
      "source": [
        "accuracy\n"
      ]
    },
    {
      "cell_type": "code",
      "execution_count": 56,
      "metadata": {
        "colab": {
          "base_uri": "https://localhost:8080/"
        },
        "id": "yAW0G_zY3Sz-",
        "outputId": "d0f4668f-90f2-42c8-cd07-b80bf6dbfc57"
      },
      "outputs": [
        {
          "output_type": "stream",
          "name": "stdout",
          "text": [
            "Accuracy score of the Logistic Regression model is 0.9989552498694062\n",
            "F1 score of the Logistic Regression model is 0.6666666666666666\n"
          ]
        }
      ],
      "source": [
        "from sklearn.metrics import f1_score\n",
        "from sklearn.metrics import accuracy_score\n",
        "from sklearn.metrics import confusion_matrix\n",
        "print('Accuracy score of the Logistic Regression model is {}'.format(accuracy_score(y_test,y_out)))\n",
        "print('F1 score of the Logistic Regression model is {}'.format(f1_score(y_test,y_out)))\n",
        "\n"
      ]
    },
    {
      "cell_type": "code",
      "source": [
        "from sklearn.neighbors import KNeighborsClassifier, KNeighborsRegressor\n",
        "from sklearn.tree import DecisionTreeClassifier, DecisionTreeRegressor\n",
        "from sklearn.ensemble import BaggingClassifier, BaggingRegressor,RandomForestClassifier,RandomForestRegressor\n",
        "from sklearn.ensemble import GradientBoostingClassifier,GradientBoostingRegressor, AdaBoostClassifier, AdaBoostRegressor \n",
        "from sklearn.svm import LinearSVC, LinearSVR, SVC, SVR\n",
        "from xgboost import XGBClassifier"
      ],
      "metadata": {
        "id": "BEBNl1e-Nslz"
      },
      "execution_count": 60,
      "outputs": []
    },
    {
      "cell_type": "markdown",
      "metadata": {
        "id": "wpydOv18HKca"
      },
      "source": [
        "K-Nearest Neighbors\n"
      ]
    },
    {
      "cell_type": "code",
      "execution_count": 61,
      "metadata": {
        "id": "4UoXhTAMFYPh"
      },
      "outputs": [],
      "source": [
        "n = 7\n",
        "KNN = KNeighborsClassifier(n_neighbors = n)\n",
        "KNN.fit(X_train, y_train)\n",
        "knn_yhat = KNN.predict(X_test)"
      ]
    },
    {
      "cell_type": "code",
      "source": [
        "print('Accuracy score of the K-Nearest Neighbors model is {}'.format(accuracy_score(y_test, knn_yhat)))\n",
        "print('F1 score of the K-Nearest Neighbors model is {}'.format(f1_score(y_test, knn_yhat)))"
      ],
      "metadata": {
        "colab": {
          "base_uri": "https://localhost:8080/"
        },
        "id": "tbxMnna4B4Cy",
        "outputId": "c7713a09-984b-4c62-e495-65b4f23ca4af"
      },
      "execution_count": 62,
      "outputs": [
        {
          "output_type": "stream",
          "name": "stdout",
          "text": [
            "Accuracy score of the K-Nearest Neighbors model is 0.999288989494457\n",
            "F1 score of the K-Nearest Neighbors model is 0.7949790794979079\n"
          ]
        }
      ]
    },
    {
      "cell_type": "markdown",
      "metadata": {
        "id": "ZlsmlJzrHOri"
      },
      "source": [
        "Support Vector Machines\n"
      ]
    },
    {
      "cell_type": "code",
      "source": [
        "svm = SVC()\n",
        "svm.fit(X_train, y_train)\n",
        "svm_yhat = svm.predict(X_test)"
      ],
      "metadata": {
        "id": "xlhupJ7OB8Q4"
      },
      "execution_count": 63,
      "outputs": []
    },
    {
      "cell_type": "code",
      "source": [
        "print('Accuracy score of the Support Vector Machines model is {}'.format(accuracy_score(y_test, svm_yhat)))\n",
        "print('F1 score of the Support Vector Machines model is {}'.format(f1_score(y_test, svm_yhat)))\n"
      ],
      "metadata": {
        "colab": {
          "base_uri": "https://localhost:8080/"
        },
        "id": "M6-8MjxRB_Mv",
        "outputId": "176d085c-605e-4c5d-bd3e-667829b6741c"
      },
      "execution_count": 64,
      "outputs": [
        {
          "output_type": "stream",
          "name": "stdout",
          "text": [
            "Accuracy score of the Support Vector Machines model is 0.999318010331418\n",
            "F1 score of the Support Vector Machines model is 0.7813953488372093\n"
          ]
        }
      ]
    },
    {
      "cell_type": "markdown",
      "metadata": {
        "id": "07coAbj5LiPD"
      },
      "source": [
        "RANDOM FOREST/Decision tree\n"
      ]
    },
    {
      "cell_type": "code",
      "source": [
        "\n",
        "DT = DecisionTreeClassifier(max_depth = 4, criterion = 'entropy')\n",
        "DT.fit(X_train, y_train)\n",
        "dt_yhat = DT.predict(X_test)\n",
        "\n",
        "rf = RandomForestClassifier(max_depth = 4)\n",
        "rf.fit(X_train, y_train)\n",
        "rf_yhat = rf.predict(X_test)"
      ],
      "metadata": {
        "id": "KfutCx1sCF8R"
      },
      "execution_count": 65,
      "outputs": []
    },
    {
      "cell_type": "code",
      "source": [
        "print('Accuracy score of the Decision Tree model is {}'.format(accuracy_score(y_test, dt_yhat)))\n",
        "print('F1 score of the Decision Tree model is {}'.format(f1_score(y_test, dt_yhat)))\n",
        "\n",
        "print('Accuracy score of the Random Forest model is {}'.format(accuracy_score(y_test, rf_yhat)))\n",
        "print('F1 score of the Random Forest model is {}'.format(f1_score(y_test, rf_yhat)))\n",
        "\n"
      ],
      "metadata": {
        "colab": {
          "base_uri": "https://localhost:8080/"
        },
        "id": "mUrqfzi-CIEP",
        "outputId": "7032c4a7-7f65-4394-d4ab-32f14371819d"
      },
      "execution_count": 67,
      "outputs": [
        {
          "output_type": "stream",
          "name": "stdout",
          "text": [
            "Accuracy score of the Decision Tree model is 0.9991438853096524\n",
            "F1 score of the Decision Tree model is 0.7467811158798283\n",
            "Accuracy score of the Random Forest model is 0.9991293748911718\n",
            "F1 score of the Random Forest model is 0.7222222222222223\n"
          ]
        }
      ]
    },
    {
      "cell_type": "markdown",
      "source": [
        "XGBOOST\n"
      ],
      "metadata": {
        "id": "wWH6n_ZkNekS"
      }
    },
    {
      "cell_type": "code",
      "source": [
        "xgb = XGBClassifier(max_depth = 4)\n",
        "xgb.fit(X_train, y_train)\n",
        "xgb_yhat = xgb.predict(X_test)"
      ],
      "metadata": {
        "id": "gOYChnDyNZJy"
      },
      "execution_count": 68,
      "outputs": []
    },
    {
      "cell_type": "code",
      "source": [
        "print('Accuracy score of the XGBoost model is {}'.format(accuracy_score(y_test, xgb_yhat)))\n",
        "print('F1 score of the XGBoost model is {}'.format(f1_score(y_test, xgb_yhat)))"
      ],
      "metadata": {
        "colab": {
          "base_uri": "https://localhost:8080/"
        },
        "id": "vHYHBgavNbbV",
        "outputId": "f7c09835-c3ef-4664-f5c8-89590e8cc565"
      },
      "execution_count": 69,
      "outputs": [
        {
          "output_type": "stream",
          "name": "stdout",
          "text": [
            "Accuracy score of the XGBoost model is 0.9994486040977422\n",
            "F1 score of the XGBoost model is 0.831858407079646\n"
          ]
        }
      ]
    }
  ],
  "metadata": {
    "colab": {
      "collapsed_sections": [],
      "name": "credit card fraud.ipynb",
      "provenance": [],
      "mount_file_id": "10lFNZQ3WbosbAbDK3j_0hcgMAzRuiP8p",
      "authorship_tag": "ABX9TyOX3r7SxCWx046eGmIo279T",
      "include_colab_link": true
    },
    "kernelspec": {
      "display_name": "Python 3",
      "name": "python3"
    },
    "language_info": {
      "name": "python"
    }
  },
  "nbformat": 4,
  "nbformat_minor": 0
}